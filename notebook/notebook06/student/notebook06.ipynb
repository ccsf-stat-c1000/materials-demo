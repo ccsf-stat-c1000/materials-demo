{
 "cells": [
  {
   "cell_type": "code",
   "execution_count": null,
   "id": "c0d23ae9",
   "metadata": {
    "deletable": false,
    "editable": false
   },
   "outputs": [],
   "source": [
    "# Initialize Otter\n",
    "import otter\n",
    "grader = otter.Notebook(\"notebook06.ipynb\")"
   ]
  },
  {
   "cell_type": "markdown",
   "id": "5c83851f-3605-4aa5-a6ac-15c6e59398f3",
   "metadata": {},
   "source": [
    "<img src=\"./ccsf.png\" alt=\"CCSF Logo\" width=200px style=\"margin:0px -5px\">"
   ]
  },
  {
   "cell_type": "markdown",
   "id": "679f4670-9dfc-48e7-b8e0-25de7793662e",
   "metadata": {
    "tags": []
   },
   "source": [
    "# Notebook 06: Charts and Summary Statistics"
   ]
  },
  {
   "cell_type": "markdown",
   "id": "51839772-c74a-4e65-ac4c-3640462b035c",
   "metadata": {
    "tags": []
   },
   "source": [
    "## Learning Objectives"
   ]
  },
  {
   "attachments": {},
   "cell_type": "markdown",
   "id": "59b1d01b-3295-4a38-b3bb-4ce4a8a533b7",
   "metadata": {},
   "source": [
    "1. Create histograms and boxplots.\n",
    "2. Computing summary statistics."
   ]
  },
  {
   "cell_type": "markdown",
   "id": "dc87f2f5-37f1-4a27-93f2-5ab78abfc9bf",
   "metadata": {},
   "source": [
    "## 1. A couple notes before you start"
   ]
  },
  {
   "cell_type": "markdown",
   "id": "aa9c35a9-f5d8-48e4-a8cf-b77bed99f7f1",
   "metadata": {},
   "source": [
    "<div style=\"background-color:#000; padding:10px;\">\n",
    "</div>"
   ]
  },
  {
   "cell_type": "markdown",
   "id": "f353bf1c-048c-4efc-8e7e-1e5c397d805d",
   "metadata": {},
   "source": [
    "* This file is yours to edit and change.\n",
    "* If you want to refer back to your copy in the future, you can find it in our JupyterHub.\n",
    "* To run a cell, use `shift` + `enter`.  "
   ]
  },
  {
   "cell_type": "markdown",
   "id": "db4d9a4c-ece7-4944-bd6c-52aa48e814d3",
   "metadata": {},
   "source": [
    "## 2. Review on Loading Data"
   ]
  },
  {
   "cell_type": "markdown",
   "id": "361351fe-d2a4-4d57-a14e-44ea32d48d81",
   "metadata": {},
   "source": [
    "<div style=\"background-color:#000; padding:10px;\">\n",
    "</div>"
   ]
  },
  {
   "cell_type": "markdown",
   "id": "3ded5926-a678-4052-bef8-114d80a20d60",
   "metadata": {
    "jp-MarkdownHeadingCollapsed": true
   },
   "source": [
    "The first step is to load in the data, which we will create a dataframe (i.e., spreadsheet) and name it `test_df`."
   ]
  },
  {
   "cell_type": "markdown",
   "id": "74888b7a-444d-4ffd-97d4-f01cee8ddbb5",
   "metadata": {
    "tags": []
   },
   "source": [
    "### Exercise 01 📍"
   ]
  },
  {
   "cell_type": "markdown",
   "id": "4cc637a9-cd59-4a3d-947b-98abbf0d71e5",
   "metadata": {
    "deletable": false,
    "editable": false
   },
   "source": [
    "1. Import the pandas library. Enter the code in line 2.  \n",
    "2. On line 4, create a variable called `filepath`, and assign it CSV file `'Testdata.csv'`\n",
    "3. Check the header to make sure that everything worked properly. Enter the code in line 8. Recall that the code is `test_df.head()`.\n",
    "\n",
    "Then run the cell, you will see a preview of the dataframe.    "
   ]
  },
  {
   "cell_type": "code",
   "execution_count": null,
   "id": "422434e1-e0ad-433c-88d5-a52dba2f9d6c",
   "metadata": {
    "tags": [
     "otter_answer_cell"
    ]
   },
   "outputs": [],
   "source": [
    "# Import pandas.\n",
    "\n",
    "# Copy/paste your shareable link for Testdata, modify it, read in and check file.\n",
    "filepath = 'Testdata link'\n",
    "# name the data frame \"test_df\"\n",
    "test_df = pd.read_csv(filepath)\n",
    "# Enter the code to read the header of the data set.\n"
   ]
  },
  {
   "cell_type": "code",
   "execution_count": null,
   "id": "9e192332",
   "metadata": {
    "deletable": false,
    "editable": false
   },
   "outputs": [],
   "source": [
    "grader.check(\"exercise_01\")"
   ]
  },
  {
   "cell_type": "markdown",
   "id": "f7916935-af66-4049-9830-619ec1e3ef34",
   "metadata": {},
   "source": [
    "## 3. Creating a Histogram for a Test Dataset"
   ]
  },
  {
   "cell_type": "markdown",
   "id": "630341c9-fcc8-44e3-a4d6-171f682e5d76",
   "metadata": {},
   "source": [
    "<div style=\"background-color:#000; padding:10px;\">\n",
    "</div>"
   ]
  },
  {
   "cell_type": "markdown",
   "id": "ae26ca68-797c-4a8f-acd3-e2a36356e1dc",
   "metadata": {
    "jp-MarkdownHeadingCollapsed": true
   },
   "source": [
    "Even though `matplotlib` is quite popular, the plots that it creates aren't particularly attractive without a lot of additional coding.\n",
    "\n",
    "`seaborn` to the rescue! `seaborn` uses `matplotlib` functions behind the scenes; in other words, it does the hard work for you, allowing users to much more easily and simply create attractive plots. To learn more about the types of plots that `seaborn` can create, we encourage checking out the [tutorial](http://seaborn.pydata.org/tutorial.html) and [example gallery](http://seaborn.pydata.org/examples/index.html).  \n",
    "\n",
    "To use functions within the `seaborn` library, we need to import both `matplotlib` and `seaborn`.\n",
    "\n",
    "Finally, two notes about importing these libraries:\n",
    "* When importing `matplotlib`, you need to include an additional line of code that allows plots to be displayed directly inside your notebook. See sample code below.\n",
    "* When importing `seaborn`, we'll use the abbreviation `sns`. See sample code below.  \n"
   ]
  },
  {
   "cell_type": "markdown",
   "id": "b20df831-0357-48db-9c69-575ff4646be9",
   "metadata": {
    "tags": []
   },
   "source": [
    "### Exercise 02 📍"
   ]
  },
  {
   "cell_type": "markdown",
   "id": "0470a840-3bd5-4566-9f02-0f369f14bc6f",
   "metadata": {
    "deletable": false,
    "editable": false
   },
   "source": [
    "The code below creates a histogram using the CSV file `Testdata.csv` for the column named `score`.\n",
    "\n",
    "Run the cell to see the histogram for the column named `score`."
   ]
  },
  {
   "cell_type": "code",
   "execution_count": null,
   "id": "98f8433e-7f38-4681-897a-1714aee25318",
   "metadata": {
    "tags": [
     "otter_answer_cell"
    ]
   },
   "outputs": [],
   "source": [
    "import matplotlib\n",
    "%matplotlib inline\n",
    "import seaborn as sns\n",
    "score_hg = sns.histplot(x = 'score', data = test_df)"
   ]
  },
  {
   "cell_type": "code",
   "execution_count": null,
   "id": "f83f7ed0",
   "metadata": {
    "deletable": false,
    "editable": false
   },
   "outputs": [],
   "source": [
    "grader.check(\"exercise_02\")"
   ]
  },
  {
   "cell_type": "markdown",
   "id": "3dd455c0-8d0b-4cf7-bdd6-6921bd80d93c",
   "metadata": {},
   "source": [
    "## 4. Computing the Summary Statistics for a Test Dataset"
   ]
  },
  {
   "cell_type": "markdown",
   "id": "cb38dd0a-ef19-401e-aec1-373e2665f7b1",
   "metadata": {},
   "source": [
    "<div style=\"background-color:#000; padding:10px;\">\n",
    "</div>"
   ]
  },
  {
   "cell_type": "markdown",
   "id": "d62f19be-6d89-48db-a284-4778c5522a8e",
   "metadata": {
    "jp-MarkdownHeadingCollapsed": true
   },
   "source": [
    "Python has several helpful functions for computing the summary statistics of a dataframe. The code below computes the mean and standard deviation of the dataframe `test_df` and the column `score`\n",
    "* sample mean:  `test_df['score'].mean()`  \n",
    "* sample SD:  `test_df['score'].std()`  "
   ]
  },
  {
   "cell_type": "markdown",
   "id": "da950daa-c379-4447-802b-57f05b2159f2",
   "metadata": {
    "tags": []
   },
   "source": [
    "### Exercise 03 📍"
   ]
  },
  {
   "cell_type": "markdown",
   "id": "02996856-db9b-419c-976c-8ff4e232621f",
   "metadata": {
    "deletable": false,
    "editable": false
   },
   "source": [
    "1. On line 2, enter the code to compute the sample mean score and assign it to the variable `x_bar`.  \n",
    "2. On line 6, enter the code to compute the sample SD score and assign it to the variable `sd`.  \n",
    "3. On line 8, enter the code to print the sample SD computed on line 6. Use line 4 as a guide.\n",
    "\n",
    "Then run the cell, you will see the sample mean and SD score for the Testdata."
   ]
  },
  {
   "cell_type": "code",
   "execution_count": null,
   "id": "c0dd85b4-86c7-4541-bde2-f53e0c26d173",
   "metadata": {
    "tags": [
     "otter_answer_cell"
    ]
   },
   "outputs": [],
   "source": [
    "# enter the code to compute the sample mean score and assign it to the variable x_bar\n",
    "\n",
    "# print the sample mean computed\n",
    "print('mean score =', x_bar)\n",
    "# enter the code to compute the sample SD score and assign it to the variable sd\n",
    "\n",
    "# enter the code to print the sample SD score computed\n"
   ]
  },
  {
   "cell_type": "code",
   "execution_count": null,
   "id": "d0d0b50a",
   "metadata": {
    "deletable": false,
    "editable": false
   },
   "outputs": [],
   "source": [
    "grader.check(\"exercise_03\")"
   ]
  },
  {
   "cell_type": "markdown",
   "id": "8d42dfa5-ed1d-48ae-b0a4-1f60624b13e3",
   "metadata": {},
   "source": [
    "## 5. Creating a Histogram for a COVID Data Set  "
   ]
  },
  {
   "cell_type": "markdown",
   "id": "4f3469c1-5290-4913-aafa-ff9da39c86de",
   "metadata": {},
   "source": [
    "<div style=\"background-color:#000; padding:10px;\">\n",
    "</div>"
   ]
  },
  {
   "cell_type": "markdown",
   "id": "ec803deb-ae1c-4028-94f8-441452cc8d1d",
   "metadata": {},
   "source": [
    "The first step is to load in the data, which we will create a dataframe and name it `covid_df`. Then, you will create a histogram for the column `death rate`."
   ]
  },
  {
   "cell_type": "markdown",
   "id": "c5d246de-a1a4-4e8b-9be6-02b6ad2b1e6e",
   "metadata": {
    "tags": []
   },
   "source": [
    "### Exercise 04 📍"
   ]
  },
  {
   "cell_type": "markdown",
   "id": "8b419e47-567c-4630-bf14-a902275499f9",
   "metadata": {
    "deletable": false,
    "editable": false
   },
   "source": [
    "1. On line 6, assign the `filepath` name to the CSV file `'COVIDbycountry.csv'`. Replace `...` with `'COVIDbycountry.csv'`.\n",
    "2. Name the dataframe as `covid_df`. Update line 8 (i.e., change `xxx_df` to `covid_df`).    \n",
    "3. On line 10, update the column name from `???` to `death rate`, and the data frame name from `xxx_df` to `covid_df`.  Notice that when making a histogram, you'd need to specify the column name and data frame.\n",
    "\n",
    "Then run the cell to see the histogram for `death rate`."
   ]
  },
  {
   "cell_type": "code",
   "execution_count": null,
   "id": "f8cde7d6-61d4-412e-bb41-aa8ec75e529a",
   "metadata": {
    "tags": [
     "otter_answer_cell"
    ]
   },
   "outputs": [],
   "source": [
    "import pandas as pd\n",
    "import matplotlib\n",
    "%matplotlib inline\n",
    "import seaborn as sns\n",
    "# Assign filepath to the CSV 'COVIDbycountry.csv'\n",
    "filepath = ...\n",
    "# name the dataframe as covid_df.\n",
    "xxx_df = pd.read_csv(filepath)\n",
    "# update line 10 to the column name 'death rate' and the dataframe name to 'covid_df'.\n",
    "deathrate_hg = sns.histplot(x = '???', data = xxx_df)"
   ]
  },
  {
   "cell_type": "code",
   "execution_count": null,
   "id": "dde83688",
   "metadata": {
    "deletable": false,
    "editable": false
   },
   "outputs": [],
   "source": [
    "grader.check(\"exercise_04\")"
   ]
  },
  {
   "cell_type": "markdown",
   "id": "7d0d740e-634e-4195-aaa7-7d4433952ec5",
   "metadata": {
    "tags": []
   },
   "source": [
    "### Exercise 05 📍"
   ]
  },
  {
   "cell_type": "markdown",
   "id": "b82b9dcb-62f8-4932-939a-95a7a8fa89f7",
   "metadata": {
    "deletable": false,
    "editable": false
   },
   "source": [
    "Make a histogram with `binwidth` wider than the previous histogram.  You'll need to modify the code by adding `binwidth = 0.02` to line 13 on [Exercise 03](#Exercise-03). Putting it together you'll have the following code:  \n",
    "\n",
    "```python\n",
    "deathrate_hg = sns.histplot(x = 'death rate', data = covid_df, binwidth = 0.02)\n",
    "```\n",
    "\n",
    "On Line 2, modify the code to include `binwidth = 0.02`. Then run the cell to see the histogram for `death rate`. What do you notice?"
   ]
  },
  {
   "cell_type": "code",
   "execution_count": null,
   "id": "d0d2d2e0-be1e-4b94-897b-ae6e20d24cb2",
   "metadata": {
    "tags": [
     "otter_answer_cell"
    ]
   },
   "outputs": [],
   "source": [
    "# insert bindwith = 0.02 to the line of code below, change 'score' to 'death rate and 'test_df' to 'covid_df'\n",
    "deathrate_hg = sns.histplot(x = 'death rate', data = covid_df)\n",
    "# the code below allows you to change the label for the x-axis\n",
    "deathrate_hg.set(xlabel= \"Death Rate by Country\")"
   ]
  },
  {
   "cell_type": "code",
   "execution_count": null,
   "id": "52915f70",
   "metadata": {
    "deletable": false,
    "editable": false
   },
   "outputs": [],
   "source": [
    "grader.check(\"exercise_05\")"
   ]
  },
  {
   "cell_type": "markdown",
   "id": "3899ee0f-484c-4dc8-a030-fdc99cf2f8ec",
   "metadata": {},
   "source": [
    "## 6. Creating Boxplot for COVID Dataset"
   ]
  },
  {
   "cell_type": "markdown",
   "id": "68fef783-9a9d-4acc-b8b6-a2e6e7ba275f",
   "metadata": {},
   "source": [
    "<div style=\"background-color:#000; padding:10px;\">\n",
    "</div>"
   ]
  },
  {
   "cell_type": "markdown",
   "id": "99dd7261-8c86-494e-b745-230c709d5aa9",
   "metadata": {},
   "source": [
    "To create boxplots in Pyhton, we'll need to import `matplotlib` and `seaborn`. The function to create a boxplot is similar to creating a histogram. It is:  \n",
    "\n",
    "```python\n",
    " sns.boxplot(x = 'column name', data = dataframe)\n",
    "```\n",
    "\n",
    " For our `COVID by country` dataset, it would be:\n",
    "\n",
    "```python\n",
    " sns.boxplot(x = 'death rate', data = covid_df)\n",
    "```\n",
    "\n",
    "Note, we can also use Python to compute the following summary statistics for the boxplot. The code to find the median, Q1, and Q3 are:\n",
    "* sample median:  `covid_df['death rate'].median()`\n",
    "* Q1, first quartile: `covid_df['death rate'].quantile(0.25)`\n",
    "* Q3, third quartile: `covid_df['death rate'].quantile(0.75)`"
   ]
  },
  {
   "cell_type": "markdown",
   "id": "80561659-b3c4-4d89-b8eb-ca68fef313b3",
   "metadata": {
    "tags": []
   },
   "source": [
    "### Exercise 06 📍"
   ]
  },
  {
   "cell_type": "markdown",
   "id": "7867a4b2-315f-47c0-8c0c-68028300c172",
   "metadata": {
    "deletable": false,
    "editable": false
   },
   "source": [
    "<!-- BEGIN QUESTION -->\n",
    "\n",
    "On Line 6, update the column name and data frame, and then run the cell below to see the boxplot for `death rate` in the `COVIDbycountry` file and its summary statistics."
   ]
  },
  {
   "cell_type": "code",
   "execution_count": null,
   "id": "3b37c3cd-7732-4133-a421-947d74735b1f",
   "metadata": {
    "tags": [
     "otter_answer_cell"
    ]
   },
   "outputs": [],
   "source": [
    "# import matplotlib and seaborn\n",
    "import matplotlib\n",
    "%matplotlib inline\n",
    "import seaborn as sns\n",
    "# creating a boxplot for the column name the data frame to make a boxplot for death rate for the COVIDbycountry dataset.\n",
    "sns.boxplot(x = '???', data = xxx_df)\n",
    "\n",
    "# compute the median, Q1, and Q3\n",
    "covid_median = covid_df['death rate'].median()\n",
    "covid_Q1 = covid_df['death rate'].quantile(0.25)\n",
    "covid_Q3 = covid_df['death rate'].quantile(0.75)\n",
    "\n",
    "# print the median, Q1, and Q3\n",
    "print('covid median =', covid_median)\n",
    "print('covid Q1 =', covid_Q1)\n",
    "print('covid Q3 =', covid_Q3)"
   ]
  },
  {
   "cell_type": "markdown",
   "id": "9cdfc547-4bf7-4e45-9014-5f8288290a14",
   "metadata": {
    "deletable": false,
    "editable": false,
    "tags": []
   },
   "source": [
    "<!-- END QUESTION -->\n",
    "\n",
    "### Exercise 07 📍"
   ]
  },
  {
   "cell_type": "markdown",
   "id": "9c7a466e-5ebb-4c96-8976-791c9b6edd23",
   "metadata": {
    "deletable": false,
    "editable": false
   },
   "source": [
    "Now, compute the mean and SD of death rate for the `COVIDbycountry.csv` dataset. Use the code in Exercise 3 as a guide.\n",
    "\n",
    "1. On line 2, enter the code to compute the sample mean death rate and assign it to the variable `covid_mean`.  \n",
    "2. On line 6, enter the code to compute the sample SD and assign it to the variable `covid_sd`.  \n",
    "3. On line 8, enter the code to print the sample SD computed on line 6.\n",
    "\n",
    "Then run the cell, you will see the sample mean and SD death rate for the `COVIDbycountry.csv` dataset."
   ]
  },
  {
   "cell_type": "code",
   "execution_count": null,
   "id": "bdb2ee42-6bd8-43a1-9708-8d39f14861ac",
   "metadata": {
    "tags": [
     "otter_answer_cell"
    ]
   },
   "outputs": [],
   "source": [
    "# enter the code to compute the sample mean death rate and assign it to the variable covid_mean\n",
    "\n",
    "# print the sample mean computed\n",
    "print('covid mean', covid_mean)\n",
    "# enter the code to compute the sample SD death rate and assign it to the variable covid_sd\n",
    "\n",
    "# enter the code to print the sample SD computed\n"
   ]
  },
  {
   "cell_type": "code",
   "execution_count": null,
   "id": "2b54acaf",
   "metadata": {
    "deletable": false,
    "editable": false
   },
   "outputs": [],
   "source": [
    "grader.check(\"exercise_07\")"
   ]
  },
  {
   "cell_type": "markdown",
   "id": "ab700b1c-5caa-4eef-bfad-1f90c44d842b",
   "metadata": {
    "editable": true,
    "slideshow": {
     "slide_type": "notes"
    },
    "tags": []
   },
   "source": [
    "## Attribution"
   ]
  },
  {
   "cell_type": "markdown",
   "id": "be303028-c64f-4962-bc4a-78f353b22fbd",
   "metadata": {},
   "source": [
    "This content is licensed under the <a href=\"https://creativecommons.org/licenses/by-nc-sa/4.0/\">Creative Commons Attribution-NonCommercial-ShareAlike 4.0 International License (CC BY-NC-SA 4.0)</a> and derived from the <a href=\"#/\">APEX STATS Data and Measurement</a> created by David Schuster.\n",
    "\n",
    "<img src=\"./by-nc-sa.png\" width=100px>"
   ]
  },
  {
   "cell_type": "markdown",
   "id": "dd128804",
   "metadata": {
    "deletable": false,
    "editable": false
   },
   "source": [
    "---\n",
    "\n",
    "To double-check your work, the cell below will rerun all of the autograder tests."
   ]
  },
  {
   "cell_type": "code",
   "execution_count": null,
   "id": "6fe8d016",
   "metadata": {
    "deletable": false,
    "editable": false
   },
   "outputs": [],
   "source": [
    "grader.check_all()"
   ]
  }
 ],
 "metadata": {
  "kernelspec": {
   "display_name": "Python 3 (ipykernel)",
   "language": "python",
   "name": "python3"
  },
  "language_info": {
   "codemirror_mode": {
    "name": "ipython",
    "version": 3
   },
   "file_extension": ".py",
   "mimetype": "text/x-python",
   "name": "python",
   "nbconvert_exporter": "python",
   "pygments_lexer": "ipython3",
   "version": "3.11.11"
  },
  "otter": {
   "OK_FORMAT": true,
   "assignment_name": "notebook06",
   "tests": {
    "exercise_01": {
     "name": "exercise_01",
     "points": null,
     "suites": [
      {
       "cases": [
        {
         "code": ">>> isinstance(test_df, pd.DataFrame)\nTrue",
         "failure_message": "\"❌ test_df is not assigned to a DataFrame.\"",
         "hidden": false,
         "locked": false,
         "success_message": "\"✅ test_df is assigned to a DataFrame.\"\n"
        }
       ],
       "scored": true,
       "setup": "",
       "teardown": "",
       "type": "doctest"
      }
     ]
    },
    "exercise_02": {
     "name": "exercise_02",
     "points": null,
     "suites": [
      {
       "cases": [
        {
         "code": ">>> 'matplotlib' in globals()\nTrue",
         "failure_message": "\"❌ You have not imported matplotlib.\"",
         "hidden": false,
         "locked": false,
         "success_message": "\"✅ You have imported matplotlib.\"\n"
        },
        {
         "code": ">>> 'sns' in globals()\nTrue",
         "failure_message": "\"❌ You have not imported seaborn as sns.\"",
         "hidden": false,
         "locked": false,
         "success_message": "\"✅ You have imported seaborn as sns.\"\n"
        },
        {
         "code": ">>> isinstance(score_hg, matplotlib.axes._axes.Axes)\nTrue",
         "failure_message": "\"❌ score_hg is not assigned to a Matplotlib graphic.\"",
         "hidden": false,
         "locked": false,
         "success_message": "\"✅ score_hg is assigned to a Matplotlib graphic.\"\n"
        }
       ],
       "scored": true,
       "setup": "",
       "teardown": "",
       "type": "doctest"
      }
     ]
    },
    "exercise_03": {
     "name": "exercise_03",
     "points": null,
     "suites": [
      {
       "cases": [
        {
         "code": ">>> import numpy as np\n>>> bool(np.isclose(x_bar, 3.5555555555555554))\nTrue",
         "failure_message": "\"❌ The value you assigned to x_bar does not seem correct.\"",
         "hidden": false,
         "locked": false,
         "success_message": "\"✅ The value you assigned to x_bar seems correct.\"\n"
        },
        {
         "code": ">>> import numpy as np\n>>> bool(np.isclose(sd, 2.6837686895641673))\nTrue",
         "failure_message": "\"❌ The value you assigned to sd does not seem correct.\"",
         "hidden": false,
         "locked": false,
         "success_message": "\"✅ The value you assigned to sd seems correct.\"\n"
        }
       ],
       "scored": true,
       "setup": "",
       "teardown": "",
       "type": "doctest"
      }
     ]
    },
    "exercise_04": {
     "name": "exercise_04",
     "points": null,
     "suites": [
      {
       "cases": [
        {
         "code": ">>> isinstance(covid_df, pd.DataFrame)\nTrue",
         "failure_message": "\"❌ covid_df is not assigned to a DataFrame.\"",
         "hidden": false,
         "locked": false,
         "success_message": "\"✅ covid_df is assigned to a DataFrame.\"\n"
        }
       ],
       "scored": true,
       "setup": "",
       "teardown": "",
       "type": "doctest"
      }
     ]
    },
    "exercise_05": {
     "name": "exercise_05",
     "points": null,
     "suites": [
      {
       "cases": [
        {
         "code": ">>> bin_widths = [p.get_width() for p in deathrate_hg.patches]\n>>> all((abs(w - 0.02) < 0.001 for w in bin_widths))\nTrue",
         "failure_message": "\"❌ You ddi not set the binwidth to 0.02.\"",
         "hidden": false,
         "locked": false,
         "success_message": "\"✅ You set the binwidth to 0.02.\"\n"
        }
       ],
       "scored": true,
       "setup": "",
       "teardown": "",
       "type": "doctest"
      }
     ]
    },
    "exercise_07": {
     "name": "exercise_07",
     "points": null,
     "suites": [
      {
       "cases": [
        {
         "code": ">>> import numpy as np\n>>> bool(np.isclose(covid_mean, 0.018474418604651165))\nTrue",
         "failure_message": "\"❌ The value you assigned to covid_mean does not seem correct.\"",
         "hidden": false,
         "locked": false,
         "success_message": "\"✅ The value you assigned to covid_mean seems correct.\"\n"
        },
        {
         "code": ">>> import numpy as np\n>>> bool(np.isclose(covid_sd, 0.02043242901904577))\nTrue",
         "failure_message": "\"❌ The value you assigned to covid_sd does not seem correct.\"",
         "hidden": false,
         "locked": false,
         "success_message": "\"✅ The value you assigned to covid_sd seems correct.\"\n"
        }
       ],
       "scored": true,
       "setup": "",
       "teardown": "",
       "type": "doctest"
      }
     ]
    }
   }
  }
 },
 "nbformat": 4,
 "nbformat_minor": 5
}
