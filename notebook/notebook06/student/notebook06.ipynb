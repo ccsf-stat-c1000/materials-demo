{
 "cells": [
  {
   "cell_type": "code",
   "execution_count": null,
   "id": "8f855cfd",
   "metadata": {
    "deletable": false,
    "editable": false
   },
   "outputs": [],
   "source": [
    "# Initialize Otter\n",
    "import otter\n",
    "grader = otter.Notebook(\"notebook06.ipynb\")"
   ]
  },
  {
   "cell_type": "markdown",
   "id": "5c83851f-3605-4aa5-a6ac-15c6e59398f3",
   "metadata": {},
   "source": [
    "<img src=\"./ccsf.png\" alt=\"CCSF Logo\" width=200px style=\"margin:0px -5px\">"
   ]
  },
  {
   "cell_type": "markdown",
   "id": "679f4670-9dfc-48e7-b8e0-25de7793662e",
   "metadata": {
    "tags": []
   },
   "source": [
    "# Notebook 06: Charts and Summary Statistics"
   ]
  },
  {
   "cell_type": "markdown",
   "id": "51839772-c74a-4e65-ac4c-3640462b035c",
   "metadata": {
    "tags": []
   },
   "source": [
    "## Learning Objectives"
   ]
  },
  {
   "cell_type": "markdown",
   "id": "53dec794-16fb-439d-a0e3-486764996452",
   "metadata": {},
   "source": [
    "<div style=\"background-color:#000; padding:10px;\">\n",
    "</div>"
   ]
  },
  {
   "attachments": {},
   "cell_type": "markdown",
   "id": "59b1d01b-3295-4a38-b3bb-4ce4a8a533b7",
   "metadata": {},
   "source": [
    "1. Create histograms and boxplots.\n",
    "2. Computing summary statistics."
   ]
  },
  {
   "cell_type": "markdown",
   "id": "db4d9a4c-ece7-4944-bd6c-52aa48e814d3",
   "metadata": {},
   "source": [
    "## Creating a Histogram for a COVID Data Set  "
   ]
  },
  {
   "cell_type": "markdown",
   "id": "361351fe-d2a4-4d57-a14e-44ea32d48d81",
   "metadata": {},
   "source": [
    "<div style=\"background-color:#000; padding:10px;\">\n",
    "</div>"
   ]
  },
  {
   "cell_type": "markdown",
   "id": "c5d246de-a1a4-4e8b-9be6-02b6ad2b1e6e",
   "metadata": {
    "tags": []
   },
   "source": [
    "### Exercise 04 📍"
   ]
  },
  {
   "cell_type": "markdown",
   "id": "8b419e47-567c-4630-bf14-a902275499f9",
   "metadata": {
    "deletable": false,
    "editable": false
   },
   "source": [
    "The first step is to load in the data, which we will create a dataframe and name it `covid_df`. Then, you will create a histogram for the column `death rate`.  \n",
    "\n",
    "1. On line 6, assign the `filepath` name to the CSV file `'COVIDbycountry.csv'`. Replace `...` with `'COVIDbycountry.csv'`.\n",
    "2. Name the dataframe as `covid_df`. Update line 8 (i.e., change `xxx_df` to `covid_df`).    \n",
    "3. On line 10, update the column name from `???` to `death rate`, and the data frame name from `xxx_df` to `covid_df`.  Notice that when making a histogram, you'd need to specify the column name and data frame.\n",
    "4. Run the cell to see the histogram for `death rate`."
   ]
  },
  {
   "cell_type": "code",
   "execution_count": null,
   "id": "f8cde7d6-61d4-412e-bb41-aa8ec75e529a",
   "metadata": {
    "tags": [
     "otter_answer_cell"
    ]
   },
   "outputs": [],
   "source": [
    "import pandas as pd\n",
    "import matplotlib\n",
    "%matplotlib inline\n",
    "import seaborn as sns\n",
    "# Assign filepath to the CSV 'COVIDbycountry.csv'\n",
    "filepath = ...\n",
    "# name the dataframe as covid_df.\n",
    "xxx_df = pd.read_csv(filepath)\n",
    "# update line 10 to the column name 'death rate' and the dataframe name to 'covid_df'.\n",
    "deathrate_hg = sns.histplot(x = '???', data = xxx_df)"
   ]
  },
  {
   "cell_type": "code",
   "execution_count": null,
   "id": "a6988328",
   "metadata": {
    "deletable": false,
    "editable": false
   },
   "outputs": [],
   "source": [
    "grader.check(\"exercise_04\")"
   ]
  },
  {
   "cell_type": "markdown",
   "id": "ab700b1c-5caa-4eef-bfad-1f90c44d842b",
   "metadata": {
    "editable": true,
    "slideshow": {
     "slide_type": "notes"
    },
    "tags": []
   },
   "source": [
    "## Attribution"
   ]
  },
  {
   "cell_type": "markdown",
   "id": "be303028-c64f-4962-bc4a-78f353b22fbd",
   "metadata": {},
   "source": [
    "This content is licensed under the <a href=\"https://creativecommons.org/licenses/by-nc-sa/4.0/\">Creative Commons Attribution-NonCommercial-ShareAlike 4.0 International License (CC BY-NC-SA 4.0)</a> and derived from the <a href=\"#/\">APEX STATS Data and Measurement</a> created by David Schuster.\n",
    "\n",
    "<img src=\"./by-nc-sa.png\" width=100px>"
   ]
  },
  {
   "cell_type": "markdown",
   "id": "627ab76e",
   "metadata": {
    "deletable": false,
    "editable": false
   },
   "source": [
    "---\n",
    "\n",
    "To double-check your work, the cell below will rerun all of the autograder tests."
   ]
  },
  {
   "cell_type": "code",
   "execution_count": null,
   "id": "03e1aa12",
   "metadata": {
    "deletable": false,
    "editable": false
   },
   "outputs": [],
   "source": [
    "grader.check_all()"
   ]
  }
 ],
 "metadata": {
  "kernelspec": {
   "display_name": "Python 3 (ipykernel)",
   "language": "python",
   "name": "python3"
  },
  "language_info": {
   "codemirror_mode": {
    "name": "ipython",
    "version": 3
   },
   "file_extension": ".py",
   "mimetype": "text/x-python",
   "name": "python",
   "nbconvert_exporter": "python",
   "pygments_lexer": "ipython3",
   "version": "3.11.11"
  },
  "otter": {
   "OK_FORMAT": true,
   "assignment_name": "notebook06",
   "tests": {
    "exercise_04": {
     "name": "exercise_04",
     "points": null,
     "suites": [
      {
       "cases": [
        {
         "code": ">>> isinstance(covid_df, pd.DataFrame)\nTrue",
         "failure_message": "\"❌ covid_df is not assigned to a DataFrame.\"",
         "hidden": false,
         "locked": false,
         "success_message": "\"✅ covid_df is assigned to a DataFrame.\"\n"
        }
       ],
       "scored": true,
       "setup": "",
       "teardown": "",
       "type": "doctest"
      }
     ]
    }
   }
  }
 },
 "nbformat": 4,
 "nbformat_minor": 5
}
